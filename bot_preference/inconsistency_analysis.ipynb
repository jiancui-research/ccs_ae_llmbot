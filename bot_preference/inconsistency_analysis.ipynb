{
 "cells": [
  {
   "cell_type": "code",
   "execution_count": 1,
   "metadata": {},
   "outputs": [],
   "source": [
    "import json\n",
    "from tqdm import tqdm\n",
    "import numpy as np\n",
    "import seaborn as sns\n",
    "import matplotlib.pyplot as plt\n",
    "\n",
    "url2botinfo_path = f'../measurement_data/url2botinfo_20240411.json'\n",
    "with open(url2botinfo_path, 'r') as f:\n",
    "    url2botinfo = json.load(f)\n",
    "\n",
    "llm_bots = [\n",
    "    'GPTBot', 'Google-Extended', 'anthropic-ai', 'cohere-ai', \n",
    "    \"Amazonbot\", \"FacebookBot\", \"Bytespider\", \"Yeti\", \n",
    "    \"YandexBot\", \"Baiduspider\", \"PetalBot\",\n",
    "]\n",
    "\n",
    "databroker_bots = [\n",
    "    \"CCBot\", \n",
    "    \"Omgilibot\", \n",
    "]\n",
    "\n",
    "rag_bots = [\n",
    "    \"Bingbot\", \"ChatGPT-User\", \"cohere-ai\", \n",
    "    \"PerplexityBot\", \"YouBot\", \"DuckDuckBot\", \n",
    "]\n",
    "\n",
    "llm_bots = [bot.lower() for bot in llm_bots]\n",
    "databroker_bots = [bot.lower() for bot in databroker_bots]\n",
    "rag_bots = [bot.lower() for bot in rag_bots]\n",
    "\n",
    "# Update the bot names in url2botinfo to lowercase\n",
    "new_url2botinfo = {}\n",
    "for url, bot_info in url2botinfo.items():\n",
    "    new_bot_info = {bot_name.lower(): paths for bot_name, paths in bot_info.items()}\n",
    "    new_url2botinfo[url] = new_bot_info\n",
    "url2botinfo = new_url2botinfo"
   ]
  },
  {
   "cell_type": "code",
   "execution_count": 2,
   "metadata": {},
   "outputs": [
    {
     "name": "stderr",
     "output_type": "stream",
     "text": [
      "100%|██████████| 582281/582281 [00:01<00:00, 378572.49it/s]"
     ]
    },
    {
     "name": "stdout",
     "output_type": "stream",
     "text": [
      "Domains with LLM and Data Broker bots: 35842\n",
      "Domains with LLM and RAG bots: 41705\n",
      "Domains with Data Broker and RAG bots: 23645\n"
     ]
    },
    {
     "name": "stderr",
     "output_type": "stream",
     "text": [
      "\n"
     ]
    }
   ],
   "source": [
    "# Initialize counters for each combination\n",
    "llm_and_db_count = 0\n",
    "llm_and_rag_count = 0\n",
    "db_and_rag_count = 0\n",
    "\n",
    "# Iterate through each domain in url2botinfo\n",
    "for url, bot_info in tqdm(url2botinfo.items()):\n",
    "    bots_in_domain = set(bot_info.keys())  # Get the set of bots for this domain\n",
    "    \n",
    "    # Check which bots are in this domain\n",
    "    llm_present = any(bot in bots_in_domain for bot in llm_bots)\n",
    "    db_present = any(bot in bots_in_domain for bot in databroker_bots)\n",
    "    rag_present = any(bot in bots_in_domain for bot in rag_bots)\n",
    "    \n",
    "    # Count the domains where these combinations are present\n",
    "    if llm_present or db_present:\n",
    "        llm_and_db_count += 1\n",
    "    if llm_present or rag_present:\n",
    "        llm_and_rag_count += 1\n",
    "    if db_present or rag_present:\n",
    "        db_and_rag_count += 1\n",
    "\n",
    "# Print the results\n",
    "print(f\"Domains with LLM and Data Broker bots: {llm_and_db_count}\")\n",
    "print(f\"Domains with LLM and RAG bots: {llm_and_rag_count}\")\n",
    "print(f\"Domains with Data Broker and RAG bots: {db_and_rag_count}\")"
   ]
  },
  {
   "cell_type": "code",
   "execution_count": 3,
   "metadata": {},
   "outputs": [],
   "source": [
    "target_pairs = [\n",
    "    ('GPTBot', 'CCBot'),\n",
    "    ('Google-Extended', 'CCBot'),\n",
    "    ('anthropic-ai', 'CCBot'),\n",
    "    ('cohere-ai', 'CCBot'),\n",
    "    ('Amazonbot', 'CCBot'),\n",
    "    ('FacebookBot', 'CCBot'),\n",
    "    ('Bytespider', 'CCBot'),\n",
    "    ('Yeti', 'CCBot'),\n",
    "    ('YandexBot', 'CCBot'),\n",
    "    ('Baiduspider', 'CCBot'),\n",
    "    ('PetalBot', 'CCBot'), \n",
    "]\n",
    "target_pairs = [(pair[0].lower(), pair[1].lower()) for pair in target_pairs] + [(pair[1].lower(), pair[0].lower()) for pair in target_pairs] "
   ]
  },
  {
   "cell_type": "code",
   "execution_count": 4,
   "metadata": {},
   "outputs": [],
   "source": [
    "# Creating a set of unique bots\n",
    "target_bots = set(bot for pair in target_pairs for bot in pair)\n",
    "domain_with_target_bots = [domain for domain, bot_info in url2botinfo.items() if len(set([bot.lower() for bot in bot_info.keys()]).intersection(target_bots)) > 0]"
   ]
  },
  {
   "cell_type": "code",
   "execution_count": 5,
   "metadata": {},
   "outputs": [
    {
     "data": {
      "text/plain": [
       "(35689, 12)"
      ]
     },
     "execution_count": 5,
     "metadata": {},
     "output_type": "execute_result"
    }
   ],
   "source": [
    "len(domain_with_target_bots), len(target_bots)"
   ]
  },
  {
   "cell_type": "markdown",
   "metadata": {},
   "source": [
    "## Count inter-full conflict between bots "
   ]
  },
  {
   "cell_type": "code",
   "execution_count": 6,
   "metadata": {},
   "outputs": [
    {
     "name": "stderr",
     "output_type": "stream",
     "text": [
      "100%|██████████| 582281/582281 [00:06<00:00, 95812.78it/s] \n"
     ]
    }
   ],
   "source": [
    "from tqdm import tqdm\n",
    "from itertools import product, combinations\n",
    "\n",
    "def is_full_conflict(bot1, bot2, bot_info):\n",
    "    bot1_allows = set(bot_info[bot1].get('allow', []))\n",
    "    bot2_allows = set(bot_info[bot2].get('allow', []))\n",
    "    bot1_disallows = set(bot_info[bot1].get('disallow', []))\n",
    "    bot2_disallows = set(bot_info[bot2].get('disallow', []))\n",
    "\n",
    "    # Corrected conditions for a bot allowing or disallowing all\n",
    "    bot1_allows_all = not bot1_allows and not bot1_disallows\n",
    "    bot2_allows_all = not bot2_allows and not bot2_disallows\n",
    "    bot1_disallows_all = bot1_disallows == {'/'}\n",
    "    bot2_disallows_all = bot2_disallows == {'/'}\n",
    "\n",
    "    # Identifying conflict when one bot allows all and the other disallows all\n",
    "    allows_disallows_conflict = (bot1_allows_all and bot2_disallows_all) or (bot1_disallows_all and bot2_allows_all)\n",
    "\n",
    "    return allows_disallows_conflict\n",
    "\n",
    "# Initialize dictionaries for each specific type of inter-conflict\n",
    "full_inter_llm_databroker_url = {(bot1, bot2): [] for bot1, bot2 in product(llm_bots, databroker_bots)}\n",
    "full_inter_llm_rag_url = {(bot1, bot2): [] for bot1, bot2 in product(llm_bots, rag_bots)}\n",
    "full_inter_databroker_rag_url = {(bot1, bot2): [] for bot1, bot2 in product(databroker_bots, rag_bots)}\n",
    "\n",
    "def count_inter_conflicts(url, bot_info):\n",
    "    bots = set(bot_info.keys())\n",
    "    \n",
    "    if '*' not in bots:\n",
    "        bot_info['*'] = {'allow': [], 'disallow': []}\n",
    "    \n",
    "    # Function to update conflicts in a specific dictionary\n",
    "    def update_conflicts(url, bot_pair_dict):\n",
    "        for bot1, bot2 in bot_pair_dict.keys():\n",
    "            if bot1 in bots and bot2 in bots:\n",
    "                if is_full_conflict(bot1, bot2, bot_info):\n",
    "                    bot_pair_dict[(bot1, bot2)].append(url)\n",
    "            elif bot1 not in bots and bot2 in bots:\n",
    "                if is_full_conflict('*', bot2, bot_info):\n",
    "                    bot_pair_dict[(bot1, bot2)].append(url)\n",
    "                \n",
    "            elif bot1 in bots and bot2 not in bots:\n",
    "                if is_full_conflict(bot1, '*', bot_info):\n",
    "                    bot_pair_dict[(bot1, bot2)].append(url)\n",
    "            else:\n",
    "                pass;\n",
    "                # print('both bots are not listed --> no conflict')\n",
    "\n",
    "    # Update each specific inter-conflict dictionary\n",
    "    update_conflicts(url, full_inter_llm_databroker_url)\n",
    "    update_conflicts(url, full_inter_llm_rag_url)\n",
    "    update_conflicts(url, full_inter_databroker_rag_url)\n",
    "\n",
    "# Example loop to populate the dictionaries\n",
    "for url, bot_info in tqdm(url2botinfo.items()):\n",
    "    count_inter_conflicts(url, bot_info)"
   ]
  },
  {
   "cell_type": "markdown",
   "metadata": {},
   "source": [
    "## Count inter-conflict between bots"
   ]
  },
  {
   "cell_type": "code",
   "execution_count": 7,
   "metadata": {},
   "outputs": [
    {
     "name": "stderr",
     "output_type": "stream",
     "text": [
      "100%|██████████| 582281/582281 [00:05<00:00, 99192.70it/s] \n"
     ]
    }
   ],
   "source": [
    "from tqdm import tqdm\n",
    "from itertools import product, combinations\n",
    "\n",
    "def is_strict_conflict(bot1, bot2, bot_info):\n",
    "    bot1_allows = set(bot_info[bot1].get('allow', []))\n",
    "    bot2_allows = set(bot_info[bot2].get('allow', []))\n",
    "    bot1_disallows = set(bot_info[bot1].get('disallow', []))\n",
    "    bot2_disallows = set(bot_info[bot2].get('disallow', []))\n",
    "\n",
    "    return bot1_allows != bot2_allows or bot1_disallows != bot2_disallows\n",
    "\n",
    "\n",
    "# Initialize dictionaries for each specific type of inter-conflict\n",
    "partial_inter_llm_databroker_url = {(bot1, bot2): [] for bot1, bot2 in product(llm_bots, databroker_bots)}\n",
    "partial_inter_llm_rag_url = {(bot1, bot2): [] for bot1, bot2 in product(llm_bots, rag_bots)}\n",
    "partial_inter_databroker_rag_url = {(bot1, bot2): [] for bot1, bot2 in product(databroker_bots, rag_bots)}\n",
    "\n",
    "def count_partial_inter_conflicts(url, bot_info):\n",
    "    bots = set(bot_info.keys())\n",
    "    \n",
    "    # Non-strict setting\n",
    "    if '*' not in bot_info:\n",
    "        bot_info['*'] = {'allow': [], 'disallow': []}\n",
    "\n",
    "    # Function to update conflicts in a specific dictionary\n",
    "    def update_conflicts(url, bot_pair_dict):\n",
    "        for bot1, bot2 in bot_pair_dict.keys():\n",
    "            if bot1 in bots and bot2 in bots:\n",
    "                if is_strict_conflict(bot1, bot2, bot_info):\n",
    "                    bot_pair_dict[(bot1, bot2)].append(url)\n",
    "            elif bot1 not in bots and bot2 in bots:\n",
    "                if is_strict_conflict('*', bot2, bot_info):\n",
    "                    bot_pair_dict[(bot1, bot2)].append(url)\n",
    "                \n",
    "            elif bot1 in bots and bot2 not in bots:\n",
    "                if is_strict_conflict(bot1, '*', bot_info):\n",
    "                    bot_pair_dict[(bot1, bot2)].append(url)\n",
    "\n",
    "            else:\n",
    "                pass;\n",
    "                # print('both bots are not listed --> no conflict')\n",
    "\n",
    "    # Update each specific inter-conflict dictionary\n",
    "    update_conflicts(url, partial_inter_llm_databroker_url)\n",
    "    update_conflicts(url, partial_inter_llm_rag_url)\n",
    "    update_conflicts(url, partial_inter_databroker_rag_url)\n",
    "\n",
    "# Example loop to populate the dictionaries\n",
    "for url, bot_info in tqdm(url2botinfo.items()):\n",
    "    count_partial_inter_conflicts(url, bot_info)"
   ]
  },
  {
   "cell_type": "markdown",
   "metadata": {},
   "source": [
    "## Conflict statistics (Table 6)"
   ]
  },
  {
   "cell_type": "code",
   "execution_count": 8,
   "metadata": {},
   "outputs": [
    {
     "name": "stderr",
     "output_type": "stream",
     "text": [
      "100%|██████████| 22/22 [00:07<00:00,  2.76it/s]"
     ]
    },
    {
     "name": "stdout",
     "output_type": "stream",
     "text": [
      "+------------------------------+---------+---------------+----------------+\n",
      "|           Bot Pair           | Domains |   Conflicts   | Full Conflicts |\n",
      "+------------------------------+---------+---------------+----------------+\n",
      "|     ('gptbot', 'ccbot')      |  17124  |  9997 (58.4%) |  1583 (9.2%)   |\n",
      "| ('google-extended', 'ccbot') |  11730  |  6562 (55.9%) |  1000 (8.5%)   |\n",
      "|  ('anthropic-ai', 'ccbot')   |  10569  |  7917 (74.9%) |  1055 (10.0%)  |\n",
      "|    ('cohere-ai', 'ccbot')    |  10395  |  8539 (82.1%) |  1228 (11.8%)  |\n",
      "|    ('amazonbot', 'ccbot')    |  12508  |  9976 (79.8%) |  1454 (11.6%)  |\n",
      "|   ('facebookbot', 'ccbot')   |  10782  |  8611 (79.9%) |  1218 (11.3%)  |\n",
      "|   ('bytespider', 'ccbot')    |  11792  |  9582 (81.3%) |  1419 (12.0%)  |\n",
      "|      ('yeti', 'ccbot')       |  12818  |  9878 (77.1%) |  1595 (12.4%)  |\n",
      "|    ('yandexbot', 'ccbot')    |  14297  | 11764 (82.3%) |  1696 (11.9%)  |\n",
      "|   ('baiduspider', 'ccbot')   |  20107  | 15106 (75.1%) |  2185 (10.9%)  |\n",
      "|    ('petalbot', 'ccbot')     |  16908  | 13503 (79.9%) |  3341 (19.8%)  |\n",
      "|        Total (Unique)        |  35689  | 31389 (88.0%) |  5880 (16.5%)  |\n",
      "+------------------------------+---------+---------------+----------------+\n"
     ]
    },
    {
     "name": "stderr",
     "output_type": "stream",
     "text": [
      "\n"
     ]
    }
   ],
   "source": [
    "from prettytable import PrettyTable\n",
    "from tqdm import tqdm\n",
    "table = PrettyTable()\n",
    "table.field_names = [\"Bot Pair\", \"Domains\", \"Conflicts\", \"Full Conflicts\"]\n",
    "\n",
    "# Track unique domains across all pairs\n",
    "all_domains = set()\n",
    "all_partial_conflicts = set()\n",
    "all_full_conflicts = set()\n",
    "\n",
    "for pair in tqdm(target_pairs):\n",
    "    if 'ccbot' == pair[1]:\n",
    "        domain_with_bot_pair = [domain for domain, bot_info in url2botinfo.items() if len(set([bot.lower() for bot in bot_info.keys()]).intersection(set(pair))) > 0]\n",
    "        all_domains.update(domain_with_bot_pair)\n",
    "        \n",
    "        # Get partial conflict stats  \n",
    "        partial_conflicts = \"\"\n",
    "        if pair in partial_inter_llm_databroker_url:\n",
    "            conflicted_domains = partial_inter_llm_databroker_url[pair]\n",
    "            all_partial_conflicts.update(conflicted_domains)\n",
    "            num_domains = len(conflicted_domains)\n",
    "            partial_conflicts = f\"{num_domains} ({num_domains/len(domain_with_bot_pair)*100:.1f}%)\"\n",
    "        elif pair in partial_inter_llm_rag_url:\n",
    "            conflicted_domains = partial_inter_llm_rag_url[pair]\n",
    "            all_partial_conflicts.update(conflicted_domains)\n",
    "            num_domains = len(conflicted_domains)\n",
    "            partial_conflicts = f\"{num_domains} ({num_domains/len(domain_with_bot_pair)*100:.1f}%)\"\n",
    "\n",
    "        # Get full conflict stats\n",
    "        full_conflicts = \"\"\n",
    "        if pair in full_inter_llm_databroker_url:\n",
    "            conflicted_domains = full_inter_llm_databroker_url[pair]\n",
    "            all_full_conflicts.update(conflicted_domains)\n",
    "            num_domains = len(conflicted_domains)\n",
    "            full_conflicts = f\"{num_domains} ({num_domains/len(domain_with_bot_pair)*100:.1f}%)\"\n",
    "        elif pair in full_inter_llm_rag_url:\n",
    "            conflicted_domains = full_inter_llm_rag_url[pair]\n",
    "            all_full_conflicts.update(conflicted_domains)\n",
    "            num_domains = len(conflicted_domains)\n",
    "            full_conflicts = f\"{num_domains} ({num_domains/len(domain_with_bot_pair)*100:.1f}%)\"\n",
    "            \n",
    "        table.add_row([pair, len(domain_with_bot_pair), partial_conflicts, full_conflicts])\n",
    "\n",
    "# Add totals row with unique domain counts\n",
    "table.add_row([\"Total (Unique)\", len(all_domains), \n",
    "               f\"{len(all_partial_conflicts)} ({len(all_partial_conflicts)/len(all_domains)*100:.1f}%)\",\n",
    "               f\"{len(all_full_conflicts)} ({len(all_full_conflicts)/len(all_domains)*100:.1f}%)\"])\n",
    "\n",
    "print(table)\n"
   ]
  },
  {
   "cell_type": "code",
   "execution_count": null,
   "metadata": {},
   "outputs": [],
   "source": []
  }
 ],
 "metadata": {
  "kernelspec": {
   "display_name": "Python 3 (ipykernel)",
   "language": "python",
   "name": "python3"
  },
  "language_info": {
   "codemirror_mode": {
    "name": "ipython",
    "version": 3
   },
   "file_extension": ".py",
   "mimetype": "text/x-python",
   "name": "python",
   "nbconvert_exporter": "python",
   "pygments_lexer": "ipython3",
   "version": "3.10.18"
  }
 },
 "nbformat": 4,
 "nbformat_minor": 4
}
